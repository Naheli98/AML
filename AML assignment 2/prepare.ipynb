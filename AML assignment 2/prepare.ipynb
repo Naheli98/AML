{
 "cells": [
  {
   "cell_type": "code",
   "execution_count": 86,
   "id": "5b156c3b",
   "metadata": {},
   "outputs": [],
   "source": [
    "import pandas as pd"
   ]
  },
  {
   "cell_type": "code",
   "execution_count": 87,
   "id": "1e5e92c3",
   "metadata": {},
   "outputs": [],
   "source": [
    "data = pd.read_csv (\"C:/Users/asust/Downloads/raw_data.csv\", names=['Label','Text'], header=None)\n"
   ]
  },
  {
   "cell_type": "code",
   "execution_count": 88,
   "id": "087c891f",
   "metadata": {},
   "outputs": [
    {
     "data": {
      "text/html": [
       "<div>\n",
       "<style scoped>\n",
       "    .dataframe tbody tr th:only-of-type {\n",
       "        vertical-align: middle;\n",
       "    }\n",
       "\n",
       "    .dataframe tbody tr th {\n",
       "        vertical-align: top;\n",
       "    }\n",
       "\n",
       "    .dataframe thead th {\n",
       "        text-align: right;\n",
       "    }\n",
       "</style>\n",
       "<table border=\"1\" class=\"dataframe\">\n",
       "  <thead>\n",
       "    <tr style=\"text-align: right;\">\n",
       "      <th></th>\n",
       "      <th>Label</th>\n",
       "      <th>Text</th>\n",
       "    </tr>\n",
       "  </thead>\n",
       "  <tbody>\n",
       "    <tr>\n",
       "      <th>0</th>\n",
       "      <td>0</td>\n",
       "      <td>Go until jurong point, crazy.. Available only ...</td>\n",
       "    </tr>\n",
       "    <tr>\n",
       "      <th>1</th>\n",
       "      <td>0</td>\n",
       "      <td>Ok lar... Joking wif u oni...</td>\n",
       "    </tr>\n",
       "    <tr>\n",
       "      <th>2</th>\n",
       "      <td>1</td>\n",
       "      <td>Free entry in 2 a wkly comp to win FA Cup fina...</td>\n",
       "    </tr>\n",
       "    <tr>\n",
       "      <th>3</th>\n",
       "      <td>0</td>\n",
       "      <td>U dun say so early hor... U c already then say...</td>\n",
       "    </tr>\n",
       "    <tr>\n",
       "      <th>4</th>\n",
       "      <td>0</td>\n",
       "      <td>Nah I don't think he goes to usf, he lives aro...</td>\n",
       "    </tr>\n",
       "    <tr>\n",
       "      <th>...</th>\n",
       "      <td>...</td>\n",
       "      <td>...</td>\n",
       "    </tr>\n",
       "    <tr>\n",
       "      <th>5567</th>\n",
       "      <td>1</td>\n",
       "      <td>This is the 2nd time we have tried 2 contact u...</td>\n",
       "    </tr>\n",
       "    <tr>\n",
       "      <th>5568</th>\n",
       "      <td>0</td>\n",
       "      <td>Will Ã¼ b going to esplanade fr home?</td>\n",
       "    </tr>\n",
       "    <tr>\n",
       "      <th>5569</th>\n",
       "      <td>0</td>\n",
       "      <td>Pity, * was in mood for that. So...any other s...</td>\n",
       "    </tr>\n",
       "    <tr>\n",
       "      <th>5570</th>\n",
       "      <td>0</td>\n",
       "      <td>The guy did some bitching but I acted like i'd...</td>\n",
       "    </tr>\n",
       "    <tr>\n",
       "      <th>5571</th>\n",
       "      <td>0</td>\n",
       "      <td>Rofl. Its true to its name</td>\n",
       "    </tr>\n",
       "  </tbody>\n",
       "</table>\n",
       "<p>5572 rows × 2 columns</p>\n",
       "</div>"
      ],
      "text/plain": [
       "      Label                                               Text\n",
       "0         0  Go until jurong point, crazy.. Available only ...\n",
       "1         0                      Ok lar... Joking wif u oni...\n",
       "2         1  Free entry in 2 a wkly comp to win FA Cup fina...\n",
       "3         0  U dun say so early hor... U c already then say...\n",
       "4         0  Nah I don't think he goes to usf, he lives aro...\n",
       "...     ...                                                ...\n",
       "5567      1  This is the 2nd time we have tried 2 contact u...\n",
       "5568      0              Will Ã¼ b going to esplanade fr home?\n",
       "5569      0  Pity, * was in mood for that. So...any other s...\n",
       "5570      0  The guy did some bitching but I acted like i'd...\n",
       "5571      0                         Rofl. Its true to its name\n",
       "\n",
       "[5572 rows x 2 columns]"
      ]
     },
     "execution_count": 88,
     "metadata": {},
     "output_type": "execute_result"
    }
   ],
   "source": [
    "data['Label'].replace(['ham', 'spam'],[0, 1], inplace=True)\n",
    "data"
   ]
  },
  {
   "cell_type": "code",
   "execution_count": 89,
   "id": "78baab1d",
   "metadata": {},
   "outputs": [],
   "source": [
    "from sklearn.model_selection import train_test_split"
   ]
  },
  {
   "cell_type": "code",
   "execution_count": 90,
   "id": "0240cede",
   "metadata": {},
   "outputs": [],
   "source": [
    "# In the first step we will split the data in training and remaining dataset\n",
    "train, rem = train_test_split(data, train_size=0.8, random_state=42)\n",
    "\n",
    "# we have to define valid_size=0.5 (that is 50% of remaining data)\n",
    "test_size = 0.5\n",
    "valid, test = train_test_split(rem, test_size=0.5, random_state=42)"
   ]
  },
  {
   "cell_type": "code",
   "execution_count": 91,
   "id": "910b776e",
   "metadata": {},
   "outputs": [],
   "source": [
    "train.to_csv('assignment/train.csv',index = False)\n",
    "valid.to_csv('assignment/validation.csv',index = False)\n",
    "test.to_csv('assignment/test.csv',index = False)\n"
   ]
  },
  {
   "cell_type": "code",
   "execution_count": 92,
   "id": "51c4fdb2",
   "metadata": {},
   "outputs": [
    {
     "data": {
      "text/plain": [
       "(0.13417096701817366, 0.12926391382405744, 0.13799283154121864)"
      ]
     },
     "execution_count": 92,
     "metadata": {},
     "output_type": "execute_result"
    }
   ],
   "source": [
    "train['Label'].mean(),valid['Label'].mean(),test['Label'].mean()"
   ]
  },
  {
   "cell_type": "code",
   "execution_count": 93,
   "id": "7c7c1dfc",
   "metadata": {},
   "outputs": [],
   "source": [
    "!git config --global user.email \"nahelibhattacharya@gmail.com\"\n",
    "!git config --global user.name \"Naheli98\""
   ]
  },
  {
   "cell_type": "code",
   "execution_count": 94,
   "id": "b103ce91",
   "metadata": {},
   "outputs": [
    {
     "name": "stdout",
     "output_type": "stream",
     "text": [
      "Reinitialized existing Git repository in C:/Users/asust/Assignments/.git/\n"
     ]
    }
   ],
   "source": [
    "!git init"
   ]
  },
  {
   "cell_type": "code",
   "execution_count": 95,
   "id": "05c1ff32",
   "metadata": {},
   "outputs": [],
   "source": [
    "#!pip install dvc "
   ]
  },
  {
   "cell_type": "code",
   "execution_count": 97,
   "id": "6b31faf8",
   "metadata": {},
   "outputs": [
    {
     "name": "stdout",
     "output_type": "stream",
     "text": [
      "Initialized DVC repository.\n",
      "\n",
      "You can now commit the changes to git.\n",
      "\n",
      "+---------------------------------------------------------------------+\n",
      "|                                                                     |\n",
      "|        DVC has enabled anonymous aggregate usage analytics.         |\n",
      "|     Read the analytics documentation (and how to opt-out) here:     |\n",
      "|             <https://dvc.org/doc/user-guide/analytics>              |\n",
      "|                                                                     |\n",
      "+---------------------------------------------------------------------+\n",
      "\n",
      "What's next?\n",
      "------------\n",
      "- Check out the documentation: <https://dvc.org/doc>\n",
      "- Get help and share ideas: <https://dvc.org/chat>\n",
      "- Star us on GitHub: <https://github.com/iterative/dvc>\n"
     ]
    }
   ],
   "source": [
    "!dvc init -f"
   ]
  },
  {
   "cell_type": "code",
   "execution_count": 98,
   "id": "7e86b1a3",
   "metadata": {},
   "outputs": [
    {
     "name": "stdout",
     "output_type": "stream",
     "text": [
      "\n",
      "To track the changes with git, run:\n",
      "\n",
      "\tgit add assignment.dvc\n",
      "\n",
      "To enable auto staging, run:\n",
      "\n",
      "\tdvc config core.autostage true\n"
     ]
    }
   ],
   "source": [
    "!dvc add assignment"
   ]
  },
  {
   "cell_type": "code",
   "execution_count": 99,
   "id": "753628c4",
   "metadata": {},
   "outputs": [],
   "source": [
    "!git add assignment.dvc .gitignore"
   ]
  },
  {
   "cell_type": "code",
   "execution_count": 100,
   "id": "6f5fb67d",
   "metadata": {},
   "outputs": [],
   "source": [
    "!dvc config core.autostage true"
   ]
  },
  {
   "cell_type": "code",
   "execution_count": 101,
   "id": "ddeee08b",
   "metadata": {},
   "outputs": [
    {
     "name": "stdout",
     "output_type": "stream",
     "text": [
      "[main 62aeb2a] start tracking assignment new_0\n",
      " 1 file changed, 1 insertion(+), 1 deletion(-)\n"
     ]
    }
   ],
   "source": [
    "!git commit -m \"start tracking assignment new_0\"\n"
   ]
  },
  {
   "cell_type": "code",
   "execution_count": 102,
   "id": "aff7817b",
   "metadata": {},
   "outputs": [
    {
     "name": "stdout",
     "output_type": "stream",
     "text": [
      "HEAD is now at 62aeb2a start tracking assignment new_0\n"
     ]
    }
   ],
   "source": [
    "!git reset --hard  "
   ]
  },
  {
   "cell_type": "code",
   "execution_count": 49,
   "id": "f893b5b4",
   "metadata": {},
   "outputs": [],
   "source": [
    "# !git add C:/Users/asust/Assignments/assignment.dvc\n",
    "# !git add C:/Users/asust/Assignments/.dvcignore\n",
    "# !git commit -m \"start tracking data new\""
   ]
  },
  {
   "cell_type": "code",
   "execution_count": 103,
   "id": "4337fc76",
   "metadata": {},
   "outputs": [
    {
     "data": {
      "text/plain": [
       "(0.13417096701817366, 0.13799283154121864, 0.12926391382405744)"
      ]
     },
     "execution_count": 103,
     "metadata": {},
     "output_type": "execute_result"
    }
   ],
   "source": [
    "train = pd.read_csv('assignment/train.csv')\n",
    "test = pd.read_csv('assignment/test.csv')\n",
    "validation = pd.read_csv('assignment/validation.csv')\n",
    "train['Label'].mean(),test['Label'].mean(),validation['Label'].mean()"
   ]
  },
  {
   "cell_type": "markdown",
   "id": "8c4987f3",
   "metadata": {},
   "source": [
    "## Seed from 42 to123"
   ]
  },
  {
   "cell_type": "code",
   "execution_count": 104,
   "id": "2d00824b",
   "metadata": {},
   "outputs": [],
   "source": [
    "# In the first step we will split the data in training and remaining dataset\n",
    "train, rem = train_test_split(data, train_size=0.8, random_state=123)\n",
    "\n",
    "# we have to define valid_size=0.5 (that is 50% of remaining data)\n",
    "test_size = 0.5\n",
    "valid, test = train_test_split(rem, test_size=0.5, random_state=123)"
   ]
  },
  {
   "cell_type": "code",
   "execution_count": 105,
   "id": "f5fe6ec8",
   "metadata": {},
   "outputs": [],
   "source": [
    "train.to_csv('assignment/train.csv',index = False)\n",
    "test.to_csv('assignment/test.csv',index = False)\n",
    "valid.to_csv('assignment/validation.csv',index = False)"
   ]
  },
  {
   "cell_type": "code",
   "execution_count": 106,
   "id": "87f087ad",
   "metadata": {},
   "outputs": [
    {
     "name": "stdout",
     "output_type": "stream",
     "text": [
      "\n",
      "To track the changes with git, run:\n",
      "\n",
      "\tgit add assignment.dvc\n",
      "\n",
      "To enable auto staging, run:\n",
      "\n",
      "\tdvc config core.autostage true\n"
     ]
    }
   ],
   "source": [
    "!dvc add assignment"
   ]
  },
  {
   "cell_type": "code",
   "execution_count": 107,
   "id": "5e915c01",
   "metadata": {},
   "outputs": [
    {
     "name": "stdout",
     "output_type": "stream",
     "text": [
      "[main 106bb86] Changed random seed to 123 new\n",
      " 1 file changed, 1 insertion(+), 1 deletion(-)\n"
     ]
    }
   ],
   "source": [
    "!git add C:/Users/asust/Assignments/assignment.dvc\n",
    "!git commit -m \"Changed random seed to 123 new\""
   ]
  },
  {
   "cell_type": "code",
   "execution_count": 108,
   "id": "6185a715",
   "metadata": {},
   "outputs": [
    {
     "name": "stdout",
     "output_type": "stream",
     "text": [
      "Data and pipelines are up to date.\n"
     ]
    }
   ],
   "source": [
    "!dvc status"
   ]
  },
  {
   "cell_type": "code",
   "execution_count": 109,
   "id": "1f3d071f",
   "metadata": {},
   "outputs": [],
   "source": [
    "!git add assignment.dvc .gitignore"
   ]
  },
  {
   "cell_type": "code",
   "execution_count": 110,
   "id": "f2883901",
   "metadata": {},
   "outputs": [],
   "source": [
    "!dvc config core.autostage true"
   ]
  },
  {
   "cell_type": "code",
   "execution_count": 111,
   "id": "4ac23204",
   "metadata": {},
   "outputs": [
    {
     "name": "stdout",
     "output_type": "stream",
     "text": [
      "On branch main\n",
      "Changes not staged for commit:\n",
      "  (use \"git add <file>...\" to update what will be committed)\n",
      "  (use \"git restore <file>...\" to discard changes in working directory)\n",
      "\tmodified:   .dvc/config\n",
      "\n",
      "Untracked files:\n",
      "  (use \"git add <file>...\" to include in what will be committed)\n",
      "\t.ipynb_checkpoints/\n",
      "\tAML Assignment 2.ipynb\n",
      "\n",
      "no changes added to commit (use \"git add\" and/or \"git commit -a\")\n"
     ]
    }
   ],
   "source": [
    "!git status"
   ]
  },
  {
   "cell_type": "code",
   "execution_count": 112,
   "id": "2fca765f",
   "metadata": {},
   "outputs": [
    {
     "name": "stdout",
     "output_type": "stream",
     "text": [
      "On branch main\n",
      "Changes not staged for commit:\n",
      "  (use \"git add <file>...\" to update what will be committed)\n",
      "  (use \"git restore <file>...\" to discard changes in working directory)\n",
      "\tmodified:   .dvc/config\n",
      "\n",
      "Untracked files:\n",
      "  (use \"git add <file>...\" to include in what will be committed)\n",
      "\t.ipynb_checkpoints/\n",
      "\tAML Assignment 2.ipynb\n",
      "\n",
      "no changes added to commit (use \"git add\" and/or \"git commit -a\")\n"
     ]
    }
   ],
   "source": [
    "!git add C:/Users/asust/Assignments/assignment.dvc\n",
    "!git commit -m \"Changed random seed to 123\""
   ]
  },
  {
   "cell_type": "code",
   "execution_count": 113,
   "id": "cbea77a6",
   "metadata": {},
   "outputs": [
    {
     "data": {
      "text/plain": [
       "(0.13327350235584473, 0.14183123877917414, 0.13261648745519714)"
      ]
     },
     "execution_count": 113,
     "metadata": {},
     "output_type": "execute_result"
    }
   ],
   "source": [
    "train['Label'].mean(),valid['Label'].mean(),test['Label'].mean()"
   ]
  },
  {
   "cell_type": "code",
   "execution_count": 114,
   "id": "7bbcd344",
   "metadata": {},
   "outputs": [],
   "source": [
    "!dvc checkout assignment.dvc -f"
   ]
  },
  {
   "cell_type": "code",
   "execution_count": 115,
   "id": "13c12320",
   "metadata": {},
   "outputs": [],
   "source": [
    "!git restore --ours assignment.dvc"
   ]
  },
  {
   "cell_type": "code",
   "execution_count": 116,
   "id": "24cc8c91",
   "metadata": {},
   "outputs": [
    {
     "data": {
      "text/plain": [
       "(0.13327350235584473, 0.13261648745519714, 0.14183123877917414)"
      ]
     },
     "execution_count": 116,
     "metadata": {},
     "output_type": "execute_result"
    }
   ],
   "source": [
    "train = pd.read_csv('assignment/train.csv')\n",
    "test = pd.read_csv('assignment/test.csv')\n",
    "validation = pd.read_csv('assignment/validation.csv')\n",
    "train['Label'].mean(),test['Label'].mean(),validation['Label'].mean()"
   ]
  },
  {
   "cell_type": "code",
   "execution_count": 117,
   "id": "e8a16bc2",
   "metadata": {},
   "outputs": [
    {
     "name": "stdout",
     "output_type": "stream",
     "text": [
      "HEAD is now at 62aeb2a start tracking assignment new_0\n"
     ]
    }
   ],
   "source": [
    "!git reset --hard 62aeb2a "
   ]
  },
  {
   "cell_type": "code",
   "execution_count": 118,
   "id": "dba7b260",
   "metadata": {},
   "outputs": [
    {
     "data": {
      "text/plain": [
       "(0.13327350235584473, 0.13261648745519714, 0.14183123877917414)"
      ]
     },
     "execution_count": 118,
     "metadata": {},
     "output_type": "execute_result"
    }
   ],
   "source": [
    "train = pd.read_csv('assignment/train.csv')\n",
    "test = pd.read_csv('assignment/test.csv')\n",
    "validation = pd.read_csv('assignment/validation.csv')\n",
    "train['Label'].mean(),test['Label'].mean(),validation['Label'].mean()"
   ]
  },
  {
   "cell_type": "code",
   "execution_count": 119,
   "id": "0f233585",
   "metadata": {},
   "outputs": [
    {
     "name": "stdout",
     "output_type": "stream",
     "text": [
      "On branch main\n",
      "Untracked files:\n",
      "  (use \"git add <file>...\" to include in what will be committed)\n",
      "\t.ipynb_checkpoints/\n",
      "\tAML Assignment 2.ipynb\n",
      "\n",
      "nothing added to commit but untracked files present (use \"git add\" to track)\n"
     ]
    }
   ],
   "source": [
    "# !git add C:/Users/asust/Assignments/assignment.dvc\n",
    "!git commit -m \"Resetting previous commit\""
   ]
  },
  {
   "cell_type": "code",
   "execution_count": 120,
   "id": "c7b63b8f",
   "metadata": {},
   "outputs": [
    {
     "name": "stdout",
     "output_type": "stream",
     "text": [
      "M       assignment\\\n"
     ]
    }
   ],
   "source": [
    "!dvc checkout assignment"
   ]
  },
  {
   "cell_type": "code",
   "execution_count": 121,
   "id": "a31a9b44",
   "metadata": {},
   "outputs": [
    {
     "data": {
      "text/plain": [
       "(0.13417096701817366, 0.13799283154121864, 0.12926391382405744)"
      ]
     },
     "execution_count": 121,
     "metadata": {},
     "output_type": "execute_result"
    }
   ],
   "source": [
    "train = pd.read_csv('assignment/train.csv')\n",
    "test = pd.read_csv('assignment/test.csv')\n",
    "validation = pd.read_csv('assignment/validation.csv')\n",
    "train['Label'].mean(),test['Label'].mean(),validation['Label'].mean()"
   ]
  },
  {
   "cell_type": "code",
   "execution_count": null,
   "id": "849ceb6e",
   "metadata": {},
   "outputs": [],
   "source": []
  },
  {
   "cell_type": "code",
   "execution_count": null,
   "id": "4b08d8b8",
   "metadata": {},
   "outputs": [],
   "source": []
  }
 ],
 "metadata": {
  "kernelspec": {
   "display_name": "Python 3 (ipykernel)",
   "language": "python",
   "name": "python3"
  },
  "language_info": {
   "codemirror_mode": {
    "name": "ipython",
    "version": 3
   },
   "file_extension": ".py",
   "mimetype": "text/x-python",
   "name": "python",
   "nbconvert_exporter": "python",
   "pygments_lexer": "ipython3",
   "version": "3.9.13"
  }
 },
 "nbformat": 4,
 "nbformat_minor": 5
}
