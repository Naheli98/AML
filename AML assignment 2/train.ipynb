{
 "cells": [
  {
   "cell_type": "code",
   "execution_count": 4,
   "id": "1a19c3c4",
   "metadata": {},
   "outputs": [
    {
     "name": "stdout",
     "output_type": "stream",
     "text": [
      "AUCPR for LR_Count: 0.9907\n",
      "AUCPR for LR_Tfidf: 0.9881\n",
      "AUCPR for LR_Count_Balanced: 0.9900\n"
     ]
    }
   ],
   "source": [
    "import pandas as pd\n",
    "from sklearn.feature_extraction.text import CountVectorizer, TfidfVectorizer\n",
    "from sklearn.linear_model import LogisticRegression\n",
    "from sklearn.metrics import auc, precision_recall_curve\n",
    "import mlflow\n",
    "import mlflow.sklearn\n",
    "\n",
    "# Load data\n",
    "train_df = pd.read_csv(r\"C:\\Users\\asust\\Assignments\\assignment\\train.csv\")\n",
    "test_df = pd.read_csv(r\"C:\\Users\\asust\\Assignments\\assignment\\test.csv\")\n",
    "valid_df = pd.read_csv(r\"C:\\Users\\asust\\Assignments\\assignment\\validation.csv\")\n",
    "\n",
    "EXPERIMENT_NAME = \"mlflow-spam-detection_101\"\n",
    "EXPERIMENT_ID = mlflow.create_experiment(EXPERIMENT_NAME)\n",
    "\n",
    "# Define benchmark models\n",
    "models = {\n",
    "    \"LR_Count\": LogisticRegression(),\n",
    "    \"LR_Tfidf\": LogisticRegression(),\n",
    "    \"LR_Count_Balanced\": LogisticRegression(class_weight=\"balanced\")\n",
    "}\n",
    "\n",
    "# Train and log benchmark models\n",
    "for i, (model_name, model) in enumerate(models.items()):\n",
    "    with mlflow.start_run(run_name=\"Model {}\".format(i+1)):\n",
    "        # Train and log the benchmark model\n",
    "        vectorizer = TfidfVectorizer() if model_name == \"LR_Tfidf\" else CountVectorizer()\n",
    "        X_train = vectorizer.fit_transform(train_df[\"Text\"])\n",
    "        X_test = vectorizer.transform(test_df[\"Text\"])\n",
    "        model.fit(X_train, train_df[\"Label\"])\n",
    "        y_pred = model.predict_proba(X_test)[:, 1]\n",
    "        precision, recall, thresholds = precision_recall_curve(test_df[\"Label\"], y_pred)\n",
    "        aucpr = auc(recall, precision)\n",
    "        mlflow.log_metric(\"AUCPR\", aucpr)\n",
    "        mlflow.sklearn.log_model(model, model_name)\n",
    "        mlflow.log_param(\"vectorizer\", \"TfidfVectorizer\" if model_name == \"LR_Tfidf\" else \"CountVectorizer\")\n",
    "\n",
    "# Print AUCPR for each model\n",
    "client = mlflow.tracking.MlflowClient()\n",
    "for i, (model_name, model) in enumerate(models.items()):\n",
    "    run = client.search_runs(experiment_ids=[\"0\"], filter_string=\"tags.mlflow.runName = 'Model {}'\".format(i+1))[0]\n",
    "    aucpr = client.get_metric_history(run.info.run_id, \"AUCPR\")[-1].value\n",
    "    print(\"AUCPR for {}: {:.4f}\".format(model_name, aucpr))\n"
   ]
  },
  {
   "cell_type": "code",
   "execution_count": 6,
   "id": "01be278a",
   "metadata": {},
   "outputs": [
    {
     "name": "stdout",
     "output_type": "stream",
     "text": [
      "^C\n"
     ]
    }
   ],
   "source": [
    "!mlflow ui"
   ]
  }
 ],
 "metadata": {
  "kernelspec": {
   "display_name": "Python 3 (ipykernel)",
   "language": "python",
   "name": "python3"
  },
  "language_info": {
   "codemirror_mode": {
    "name": "ipython",
    "version": 3
   },
   "file_extension": ".py",
   "mimetype": "text/x-python",
   "name": "python",
   "nbconvert_exporter": "python",
   "pygments_lexer": "ipython3",
   "version": "3.9.13"
  }
 },
 "nbformat": 4,
 "nbformat_minor": 5
}
